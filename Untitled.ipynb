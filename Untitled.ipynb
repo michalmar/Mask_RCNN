{
 "cells": [
  {
   "cell_type": "code",
   "execution_count": 1,
   "metadata": {},
   "outputs": [
    {
     "name": "stdout",
     "output_type": "stream",
     "text": [
      "/bin/sh: ipython: command not found\r\n"
     ]
    }
   ],
   "source": [
    "!ipython kernelspec list"
   ]
  },
  {
   "cell_type": "code",
   "execution_count": 10,
   "metadata": {},
   "outputs": [
    {
     "data": {
      "text/plain": [
       "[imgaug 0.2.6 (/data/anaconda/envs/py35/lib/python3.5/site-packages),\n",
       " h5py 2.7.1 (/data/anaconda/envs/py35/lib/python3.5/site-packages),\n",
       " opencv-python 3.4.3.18 (/data/anaconda/envs/py35/lib/python3.5/site-packages),\n",
       " Keras 2.2.2 (/data/anaconda/envs/py35/lib/python3.5/site-packages),\n",
       " scikit-image 0.13.1 (/data/anaconda/envs/py35/lib/python3.5/site-packages),\n",
       " matplotlib 2.2.2 (/data/anaconda/envs/py35/lib/python3.5/site-packages),\n",
       " Cython 0.28.2 (/data/anaconda/envs/py35/lib/python3.5/site-packages),\n",
       " Pillow 5.1.0 (/data/anaconda/envs/py35/lib/python3.5/site-packages),\n",
       " scipy 1.1.0 (/data/anaconda/envs/py35/lib/python3.5/site-packages),\n",
       " numpy 1.14.5 (/data/anaconda/envs/py35/lib/python3.5/site-packages),\n",
       " six 1.11.0 (/data/anaconda/envs/py35/lib/python3.5/site-packages),\n",
       " numpy 1.14.5 (/data/anaconda/envs/py35/lib/python3.5/site-packages),\n",
       " scikit-image 0.13.1 (/data/anaconda/envs/py35/lib/python3.5/site-packages),\n",
       " numpy 1.14.5 (/data/anaconda/envs/py35/lib/python3.5/site-packages),\n",
       " numpy 1.14.5 (/data/anaconda/envs/py35/lib/python3.5/site-packages),\n",
       " six 1.11.0 (/data/anaconda/envs/py35/lib/python3.5/site-packages),\n",
       " numpy 1.14.5 (/data/anaconda/envs/py35/lib/python3.5/site-packages),\n",
       " PyYAML 3.12 (/data/anaconda/envs/py35/lib/python3.5/site-packages),\n",
       " Keras-Preprocessing 1.0.2 (/data/anaconda/envs/py35/lib/python3.5/site-packages),\n",
       " scipy 1.1.0 (/data/anaconda/envs/py35/lib/python3.5/site-packages),\n",
       " Keras-Applications 1.0.4 (/data/anaconda/envs/py35/lib/python3.5/site-packages),\n",
       " PyWavelets 0.5.2 (/data/anaconda/envs/py35/lib/python3.5/site-packages),\n",
       " Pillow 5.1.0 (/data/anaconda/envs/py35/lib/python3.5/site-packages),\n",
       " networkx 2.1 (/data/anaconda/envs/py35/lib/python3.5/site-packages),\n",
       " six 1.11.0 (/data/anaconda/envs/py35/lib/python3.5/site-packages),\n",
       " matplotlib 2.2.2 (/data/anaconda/envs/py35/lib/python3.5/site-packages),\n",
       " kiwisolver 1.0.1 (/data/anaconda/envs/py35/lib/python3.5/site-packages),\n",
       " six 1.11.0 (/data/anaconda/envs/py35/lib/python3.5/site-packages),\n",
       " pytz 2018.4 (/data/anaconda/envs/py35/lib/python3.5/site-packages),\n",
       " python-dateutil 2.7.3 (/data/anaconda/envs/py35/lib/python3.5/site-packages),\n",
       " pyparsing 2.2.0 (/data/anaconda/envs/py35/lib/python3.5/site-packages),\n",
       " cycler 0.10.0 (/data/anaconda/envs/py35/lib/python3.5/site-packages),\n",
       " numpy 1.14.5 (/data/anaconda/envs/py35/lib/python3.5/site-packages),\n",
       " Keras 2.2.2 (/data/anaconda/envs/py35/lib/python3.5/site-packages),\n",
       " decorator 4.3.0 (/data/anaconda/envs/py35/lib/python3.5/site-packages),\n",
       " setuptools 39.1.0 (/data/anaconda/envs/py35/lib/python3.5/site-packages),\n",
       " six 1.11.0 (/data/anaconda/envs/py35/lib/python3.5/site-packages)]"
      ]
     },
     "execution_count": 10,
     "metadata": {},
     "output_type": "execute_result"
    }
   ],
   "source": [
    "import pkg_resources\n",
    "from pkg_resources import DistributionNotFound, VersionConflict\n",
    "\n",
    "# dependencies can be any iterable with strings, \n",
    "# e.g. file line-by-line iterator\n",
    "dependencies = [\n",
    "'numpy',\n",
    "'scipy',\n",
    "'Pillow',\n",
    "'cython',\n",
    "'matplotlib',\n",
    "'scikit-image',\n",
    "# 'tensorflow>=1.3.0',\n",
    "'keras>=2.0.8',\n",
    "'opencv-python',\n",
    "'h5py',\n",
    "'imgaug',\n",
    "# 'IPython[all]'\n",
    "]\n",
    "\n",
    "# here, if a dependency is not met, a DistributionNotFound or VersionConflict\n",
    "# exception is thrown. \n",
    "pkg_resources.require(dependencies)"
   ]
  },
  {
   "cell_type": "code",
   "execution_count": 6,
   "metadata": {},
   "outputs": [
    {
     "name": "stdout",
     "output_type": "stream",
     "text": [
      "1.10.1\n"
     ]
    }
   ],
   "source": [
    "import tensorflow\n",
    "\n",
    "print(tensorflow.__version__)"
   ]
  },
  {
   "cell_type": "code",
   "execution_count": null,
   "metadata": {},
   "outputs": [],
   "source": [
    "imgaug \n",
    "opencv-python\n"
   ]
  }
 ],
 "metadata": {
  "kernelspec": {
   "display_name": "Python 3",
   "language": "python",
   "name": "python3"
  },
  "language_info": {
   "codemirror_mode": {
    "name": "ipython",
    "version": 3
   },
   "file_extension": ".py",
   "mimetype": "text/x-python",
   "name": "python",
   "nbconvert_exporter": "python",
   "pygments_lexer": "ipython3",
   "version": "3.5.5"
  }
 },
 "nbformat": 4,
 "nbformat_minor": 2
}
